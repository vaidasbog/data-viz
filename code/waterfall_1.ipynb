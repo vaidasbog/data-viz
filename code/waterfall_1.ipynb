{
 "cells": [
  {
   "cell_type": "code",
   "execution_count": 111,
   "source": [
    "import pandas\r\n",
    "import numpy as np\r\n",
    "import matplotlib.pyplot as plt\r\n",
    "import matplotlib as mpl\r\n",
    "from matplotlib import ticker"
   ],
   "outputs": [],
   "metadata": {}
  },
  {
   "cell_type": "code",
   "execution_count": 14,
   "source": [
    "# Setting the stage\r\n",
    "mpl.rcParams['figure.figsize'] = 6.5, 4         # figure size\r\n",
    "mpl.rcParams['figure.dpi'] = 100                # dots per inch, magnifying effect\r\n",
    "mpl.rcParams['axes.spines.top'] = False         # Remove top spine\r\n",
    "mpl.rcParams['axes.spines.right'] = False       # Remove right spine\r\n",
    "mpl.rcParams['axes.spines.left'] = False        # Remove left spine\r\n",
    "mpl.rcParams['axes.edgecolor'] = '#414040'      # Gray edge collors\r\n",
    "mpl.rcParams['xtick.color'] = '#414040'         # Gray yticks\r\n",
    "mpl.rcParams['ytick.color'] = '#414040'         # Gray xticks\r\n",
    "mpl.rcParams['ytick.labelleft'] = False         # Remove y-axis tick lables\r\n",
    "mpl.rcParams['ytick.major.left'] = False        # Remove y-axis ticks\r\n",
    "mpl.rcParams['text.color'] = '#414040'          # Text\r\n",
    "mpl.rcParams['font.family'] = 'Arial'           # Font"
   ],
   "outputs": [],
   "metadata": {}
  },
  {
   "cell_type": "code",
   "execution_count": 38,
   "source": [
    "# Colors\r\n",
    "GRAY1, GRAY2, GRAY3 = '#231F20', '#414040', '#555655'\r\n",
    "GRAY4, GRAY5, GRAY6 = '#646369', '#76787B', '#828282'\r\n",
    "GRAY7, GRAY8, GRAY9 = '#929497', '#A6A6A5', '#BFBEBE'\r\n",
    "BLUE1, BLUE2, BLUE3, BLUE4 = '#174A7E', '#4A81BF', '#94B2D7', '#94AFC5'\r\n",
    "RED1, RED2 = '#C3514E', '#E6BAB7'\r\n",
    "GREEN1, GREEN2 = '#0C8040', '#9ABB59'\r\n",
    "ORANGE1 = '#F79747'\r\n",
    "WHITE1 = '#FFFFFF'"
   ],
   "outputs": [],
   "metadata": {}
  },
  {
   "cell_type": "code",
   "execution_count": 17,
   "source": [
    "# Data\r\n",
    "begining = 100\r\n",
    "hires = 30\r\n",
    "transfers_in = 8\r\n",
    "transfers_out = -12\r\n",
    "exits = -10\r\n",
    "ending = 116"
   ],
   "outputs": [],
   "metadata": {}
  },
  {
   "cell_type": "code",
   "execution_count": 180,
   "source": [
    "# Plot\r\n",
    "fig, ax = plt.subplots()\r\n",
    "\r\n",
    "# Bar plots\r\n",
    "width = 0.5\r\n",
    "bar_1 = ax.bar(1, begining, width=width, color=BLUE2)\r\n",
    "bar_2 = ax.bar(2, hires, bottom=begining, width=width, color=BLUE2)\r\n",
    "bar_3 = ax.bar(3, transfers_in, bottom=begining+hires, width=width, color=BLUE2)\r\n",
    "bar_4 = ax.bar(4, transfers_out, bottom=begining+hires+transfers_in, width=width, color=BLUE2)\r\n",
    "bar_5 = ax.bar(5, exits, bottom=begining+hires+transfers_in+transfers_out, width=width, color=BLUE2)\r\n",
    "bar_6 = ax.bar(6, ending, width=width, color=BLUE2)\r\n",
    "\r\n",
    "# Vertical lines\r\n",
    "ax.hlines(begining, 1-width/2, 2+width/2, colors=GRAY6, linestyles=\"--\", linewidth=0.7)\r\n",
    "ax.hlines(begining+hires, 2-width/2, 3+width/2, colors=GRAY6, linestyles=\"--\", linewidth=0.7)\r\n",
    "ax.hlines(begining+hires+transfers_in, 3-width/2, 4+width/2, colors=GRAY6, linestyles=\"--\", linewidth=0.7)\r\n",
    "ax.hlines(begining+hires+transfers_in+transfers_out, 4-width/2, 5+width/2, colors=GRAY6, linestyles=\"--\", linewidth=0.7)\r\n",
    "ax.hlines(begining+hires+transfers_in+transfers_out+exits, 5-width/2, 6+width/2, colors=GRAY6, linestyles=\"--\", linewidth=0.7)\r\n",
    "\r\n",
    "# Bar labls\r\n",
    "ax.bar_label(bar_1, labels = [str(begining)], color=WHITE1, padding=-12, fontsize=9.5)\r\n",
    "ax.bar_label(bar_2, labels = [\"+\"+str(hires)], color=WHITE1, padding=-12, fontsize=9.5)\r\n",
    "ax.bar_label(bar_3, labels = [\"+\"+str(transfers_in)], color=WHITE1, padding=-11, fontsize=9.5)\r\n",
    "ax.bar_label(bar_4, labels = [\"-\"+str(transfers_out)], color=WHITE1, padding=-15, fontsize=9.5)\r\n",
    "ax.bar_label(bar_5, labels = [\"-\"+str(exits)], color=WHITE1, padding=-12, fontsize=9.5)\r\n",
    "ax.bar_label(bar_6, labels = [str(ending)], color=WHITE1, padding=-12, fontsize=9.5)\r\n",
    "\r\n",
    "# Title\r\n",
    "ax.text(0, 165,  '2014 Headcount math', fontsize=14, color=GRAY2)\r\n",
    "sub_title = \"Though more employees transfered out of the team than traansfered in,\\n\"\\\r\n",
    "+\"aggressive hiring means overall headcount (HC) increased 16% over the course of the year.\"\r\n",
    "ax.text(0, 150, sub_title, fontsize=9, color=GRAY4)\r\n",
    "\r\n",
    "ax.set_xlim(0.5, 6.5)\r\n",
    "\r\n",
    "# Setting major x-ticks\r\n",
    "major_ticks = [1, 2, 3, 4, 5, 6]                      # Defining major ticks\r\n",
    "ax.set_xticks(major_ticks, minor=False)               # Setting x-ticks\r\n",
    "major_labels = ['1/1/2014', 'Hires', 'Transfrs in', 'Transfers out', 'Exits', '12/31/2014']\r\n",
    "ax.set_xticklabels(major_labels, minor=False)   # Setting lables\r\n",
    "ax.tick_params(axis=\"x\", color=WHITE1, labelsize=9, pad=0.5)          # Hiding ticks with white color\r\n",
    "\r\n",
    "# Setting minor x-ticks\r\n",
    "minor_ticks = [0.5, 1.5, 2.5, 3.5, 4.5, 5.5, 6.5]                      # Defining major ticks\r\n",
    "for t in minor_ticks:\r\n",
    "    ax.annotate('', xy=(t, 1), xytext=(t, -20), arrowprops=dict(arrowstyle=\"-\", edgecolor=GRAY2))\r\n",
    "    # ax.vlines(t, 0, -10, colors=GRAY5)\r\n",
    "# ax.set_xticks(minor_ticks, minor=True)               # Setting x-ticks\r\n",
    "# for ix, tick in enumerate(ax.xaxis.get_minor_ticks()):\r\n",
    "#     if (ix in [0, 1, 3, 5, 6]):\r\n",
    "#         tick.tick1line.set_markersize(60)\r\n",
    "#     else:\r\n",
    "#         tick.tick1line.set_markersize(15)\r\n",
    "\r\n",
    "ax.annotate(' ', xy=(3, 50), xytext=(3, 90), arrowprops=dict(arrowstyle=\"-\", edgecolor=GRAY7, lw=0.01))\r\n",
    "\r\n",
    "# major_labels = ['1/1/2014', 'Hires', 'Transfrs in', 'Transfers out', 'Exits', '12/31/2014']\r\n",
    "# ax.set_xticklabels(major_labels, minor=False)   # Setting lables\r\n",
    "# ax.tick_params(axis=\"x\", color=WHITE1)          # Hiding ticks with white color\r\n",
    "\r\n",
    "\r\n",
    "# ax.xaxis.set_major_formatter(ticker.NullFormatter()) # Remove x-axis ticks\r\n",
    "# Add custom ticks\r\n",
    "# Make ticks of different length\r\n",
    "# Change tick lables\r\n"
   ],
   "outputs": [
    {
     "output_type": "execute_result",
     "data": {
      "text/plain": [
       "Text(3, 90, ' ')"
      ]
     },
     "metadata": {},
     "execution_count": 180
    },
    {
     "output_type": "display_data",
     "data": {
      "image/png": "[encoded data removed]",
      "text/plain": [
       "<Figure size 650x400 with 1 Axes>"
      ]
     },
     "metadata": {
      "needs_background": "light"
     }
    }
   ],
   "metadata": {}
  }
 ],
 "metadata": {
  "orig_nbformat": 4,
  "language_info": {
   "name": "python",
   "version": "3.9.7",
   "mimetype": "text/x-python",
   "codemirror_mode": {
    "name": "ipython",
    "version": 3
   },
   "pygments_lexer": "ipython3",
   "nbconvert_exporter": "python",
   "file_extension": ".py"
  },
  "kernelspec": {
   "name": "python3",
   "display_name": "Python 3.9.7 64-bit ('data_viz': conda)"
  },
  "interpreter": {
   "hash": "16dc84660fec27b50f0548644bb1795f9bec42b358b6ade974b6ef1756c86310"
  }
 },
 "nbformat": 4,
 "nbformat_minor": 2
}