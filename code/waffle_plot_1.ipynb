{
 "cells": [
  {
   "cell_type": "code",
   "execution_count": 1,
   "source": [
    "import pandas as pd\r\n",
    "import numpy as np\r\n",
    "import matplotlib.pyplot as plt\r\n",
    "import matplotlib as mpl\r\n",
    "from pywaffle import Waffle"
   ],
   "outputs": [],
   "metadata": {}
  },
  {
   "cell_type": "code",
   "execution_count": 2,
   "source": [
    "# Colors\r\n",
    "GRAY1, GRAY2, GRAY3 = '#231F20', '#414040', '#555655'\r\n",
    "GRAY4, GRAY5, GRAY6 = '#646369', '#76787B', '#828282'\r\n",
    "GRAY7, GRAY8, GRAY9 = '#929497', '#A6A6A5', '#BFBEBE'\r\n",
    "BLUE1, BLUE2, BLUE3, BLUE4 = '#174A7E', '#4A81BF', '#94B2D7', '#94AFC5'\r\n",
    "RED1, RED2 = '#C3514E', '#E6BAB7'\r\n",
    "GREEN1, GREEN2 = '#0C8040', '#9ABB59'\r\n",
    "ORANGE1 = '#F79747'"
   ],
   "outputs": [],
   "metadata": {}
  },
  {
   "cell_type": "code",
   "execution_count": 60,
   "source": [
    "from matplotlib import rc\r\n",
    "rc('text', usetex=True)"
   ],
   "outputs": [],
   "metadata": {}
  },
  {
   "cell_type": "code",
   "execution_count": 3,
   "source": [
    "# fig, ax = plt.subplots()\r\n",
    "\r\n",
    "fig = plt.figure(\r\n",
    "    FigureClass=Waffle,\r\n",
    "    rows=10,\r\n",
    "    columns=10,  # Either rows or columns could be omitted\r\n",
    "    values=[1]*100,\r\n",
    "    colors=[\r\n",
    "        GRAY9, GRAY9, GRAY9, GRAY9, GRAY9, GRAY9, GRAY9, GRAY9, GRAY9, GRAY9,\r\n",
    "        GRAY9, GRAY9, GRAY9, GRAY9, GRAY9, GRAY9, GRAY9, GRAY9, GRAY9, GRAY9,\r\n",
    "        GRAY9, GRAY9, GRAY9, GRAY9, GRAY9, GRAY9, GRAY9, GRAY9, GRAY9, GRAY9,\r\n",
    "        GRAY9, GRAY9, GRAY9, GRAY9, GRAY9, GRAY9, GRAY9, GRAY9, GRAY9, GRAY9,\r\n",
    "        GRAY9, GRAY9, GRAY9, GRAY9, GRAY9, GRAY9, GRAY9, GRAY9, GRAY9, GRAY9,\r\n",
    "        GRAY7, GRAY7, GRAY7, GRAY7, GRAY7, GRAY9, GRAY9, GRAY9, GRAY9, GRAY9,\r\n",
    "        GRAY7, GRAY7, GRAY7, GRAY7, GRAY7, GRAY9, GRAY9, GRAY9, GRAY9, GRAY9,\r\n",
    "        BLUE2, BLUE2, BLUE2, GRAY7, GRAY7, GRAY9, GRAY9, GRAY9, GRAY9, GRAY9,\r\n",
    "        BLUE2, BLUE2, BLUE2, GRAY7, GRAY7, GRAY9, GRAY9, GRAY9, GRAY9, GRAY9,\r\n",
    "        BLUE2, BLUE2, BLUE2, GRAY7, GRAY7, GRAY9, GRAY9, GRAY9, GRAY9, GRAY9\r\n",
    "    ],\r\n",
    "    interval_ratio_x=0.1,\r\n",
    "    interval_ratio_y=0.1\r\n",
    ")\r\n",
    "\r\n",
    "fig.text(\r\n",
    "    x=0.78,\r\n",
    "    y=0.93,\r\n",
    "    s=\"  Out of every 100\\n\" + r\"$\\bf{\" + str(100) + \"}$\",\r\n",
    "    ha=\"center\",\r\n",
    "    va=\"center\",\r\n",
    "    fontsize=12,\r\n",
    "    color=GRAY8\r\n",
    ")"
   ],
   "outputs": [
    {
     "output_type": "execute_result",
     "data": {
      "text/plain": [
       "Text(0.78, 0.93, '  Out of every 100\\n$\\\\bf{100}$')"
      ]
     },
     "metadata": {},
     "execution_count": 3
    },
    {
     "output_type": "display_data",
     "data": {
      "image/png": "[encoded data removed]",
      "text/plain": [
       "<Waffle size 432x288 with 1 Axes>"
      ]
     },
     "metadata": {
      "needs_background": "light"
     }
    }
   ],
   "metadata": {}
  }
 ],
 "metadata": {
  "orig_nbformat": 4,
  "language_info": {
   "name": "python",
   "version": "3.9.7",
   "mimetype": "text/x-python",
   "codemirror_mode": {
    "name": "ipython",
    "version": 3
   },
   "pygments_lexer": "ipython3",
   "nbconvert_exporter": "python",
   "file_extension": ".py"
  },
  "kernelspec": {
   "name": "python3",
   "display_name": "Python 3.9.7 64-bit ('data_viz': conda)"
  },
  "interpreter": {
   "hash": "16dc84660fec27b50f0548644bb1795f9bec42b358b6ade974b6ef1756c86310"
  }
 },
 "nbformat": 4,
 "nbformat_minor": 2
}