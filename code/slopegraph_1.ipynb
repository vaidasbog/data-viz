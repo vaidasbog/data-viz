{
 "cells": [
  {
   "cell_type": "code",
   "execution_count": 6,
   "metadata": {},
   "outputs": [],
   "source": [
    "import os\n",
    "import pandas as pd\n",
    "import numpy as np\n",
    "import matplotlib.pyplot as plt\n",
    "import matplotlib as mpl\n",
    "from matplotlib import ticker\n",
    "import matplotlib.dates as dates"
   ]
  },
  {
   "cell_type": "code",
   "execution_count": 7,
   "metadata": {},
   "outputs": [],
   "source": [
    "# Colors\n",
    "GRAY1, GRAY2, GRAY3 = '#231F20', '#414040', '#555655'\n",
    "GRAY4, GRAY5, GRAY6 = '#646369', '#76787B', '#828282'\n",
    "GRAY7, GRAY8, GRAY9 = '#929497', '#A6A6A5', '#BFBEBE'\n",
    "BLUE1, BLUE2, BLUE3, BLUE4 = '#174A7E', '#4A81BF', '#94B2D7', '#94AFC5'\n",
    "RED1, RED2 = '#C3514E', '#E6BAB7'\n",
    "GREEN1, GREEN2 = '#0C8040', '#9ABB59'\n",
    "ORANGE1 = '#F79747'"
   ]
  },
  {
   "cell_type": "code",
   "execution_count": 127,
   "metadata": {},
   "outputs": [],
   "source": [
    "# Setting the stage\n",
    "mpl.rcParams['figure.figsize'] = 6.5, 4         # figure size\n",
    "mpl.rcParams['figure.dpi'] = 100                # dots per inch, magnifying effect\n",
    "mpl.rcParams['axes.spines.top'] = False         # Remove top spine\n",
    "mpl.rcParams['axes.spines.right'] = False       # Remove right spine\n",
    "mpl.rcParams['axes.spines.left'] = False        # Remove left spine\n",
    "mpl.rcParams['axes.edgecolor'] = GRAY2          # Gray edge collors\n",
    "mpl.rcParams['xtick.color'] = GRAY2             # Gray yticks\n",
    "mpl.rcParams['ytick.color'] = GRAY2             # Gray xticks\n",
    "mpl.rcParams['ytick.labelleft'] = False         # Remove y-axis tick lables\n",
    "mpl.rcParams['ytick.major.left'] = False        # Remove y-axis ticks\n",
    "mpl.rcParams['text.color'] = GRAY2              # Text\n",
    "mpl.rcParams['font.family'] = 'Arial'           # Font"
   ]
  },
  {
   "cell_type": "code",
   "execution_count": 9,
   "metadata": {},
   "outputs": [
    {
     "data": {
      "text/html": [
       "<div>\n",
       "<style scoped>\n",
       "    .dataframe tbody tr th:only-of-type {\n",
       "        vertical-align: middle;\n",
       "    }\n",
       "\n",
       "    .dataframe tbody tr th {\n",
       "        vertical-align: top;\n",
       "    }\n",
       "\n",
       "    .dataframe thead th {\n",
       "        text-align: right;\n",
       "    }\n",
       "</style>\n",
       "<table border=\"1\" class=\"dataframe\">\n",
       "  <thead>\n",
       "    <tr style=\"text-align: right;\">\n",
       "      <th></th>\n",
       "      <th>All</th>\n",
       "      <th>Less than high school</th>\n",
       "      <th>High school graduate</th>\n",
       "      <th>Some college</th>\n",
       "      <th>Bachelor's degree or more</th>\n",
       "    </tr>\n",
       "  </thead>\n",
       "  <tbody>\n",
       "    <tr>\n",
       "      <th>2008</th>\n",
       "      <td>41.4</td>\n",
       "      <td>26.8</td>\n",
       "      <td>35.9</td>\n",
       "      <td>42.5</td>\n",
       "      <td>61.5</td>\n",
       "    </tr>\n",
       "    <tr>\n",
       "      <th>2009</th>\n",
       "      <td>40.0</td>\n",
       "      <td>25.0</td>\n",
       "      <td>34.0</td>\n",
       "      <td>41.0</td>\n",
       "      <td>61.0</td>\n",
       "    </tr>\n",
       "    <tr>\n",
       "      <th>2010</th>\n",
       "      <td>38.0</td>\n",
       "      <td>23.0</td>\n",
       "      <td>31.0</td>\n",
       "      <td>37.0</td>\n",
       "      <td>59.0</td>\n",
       "    </tr>\n",
       "    <tr>\n",
       "      <th>2011</th>\n",
       "      <td>37.0</td>\n",
       "      <td>23.2</td>\n",
       "      <td>30.5</td>\n",
       "      <td>36.7</td>\n",
       "      <td>55.0</td>\n",
       "    </tr>\n",
       "    <tr>\n",
       "      <th>2012</th>\n",
       "      <td>36.7</td>\n",
       "      <td>23.4</td>\n",
       "      <td>30.1</td>\n",
       "      <td>36.5</td>\n",
       "      <td>56.7</td>\n",
       "    </tr>\n",
       "  </tbody>\n",
       "</table>\n",
       "</div>"
      ],
      "text/plain": [
       "       All  Less than high school  High school graduate  Some college  \\\n",
       "2008  41.4                   26.8                  35.9          42.5   \n",
       "2009  40.0                   25.0                  34.0          41.0   \n",
       "2010  38.0                   23.0                  31.0          37.0   \n",
       "2011  37.0                   23.2                  30.5          36.7   \n",
       "2012  36.7                   23.4                  30.1          36.5   \n",
       "\n",
       "      Bachelor's degree or more  \n",
       "2008                       61.5  \n",
       "2009                       61.0  \n",
       "2010                       59.0  \n",
       "2011                       55.0  \n",
       "2012                       56.7  "
      ]
     },
     "execution_count": 9,
     "metadata": {},
     "output_type": "execute_result"
    }
   ],
   "source": [
    "ix = ['2008',\t'2009', '2010', '2011', '2012']\n",
    "all = [41.4, 40.0, 38.0, 37.0, 36.7]\n",
    "lsth = [26.8, 25.0, 23.0, 23.2, 23.4]\n",
    "hsg = [35.9, 34.0, 31.0, 30.5, 30.1]\n",
    "sc = [42.5, 41.0, 37.0, 36.7, 36.5]\n",
    "bdm = [61.5, 61.0, 59.0, 55.0, 56.7]\n",
    "\n",
    "data = pd.DataFrame({\n",
    "    'All': all,\n",
    "    'Less than high school': lsth,\n",
    "    'High school graduate': hsg,\n",
    "    'Some college': sc,\n",
    "    \"Bachelor's degree or more\": bdm,\n",
    "    }, index=ix)\n",
    "data"
   ]
  },
  {
   "cell_type": "code",
   "execution_count": 129,
   "metadata": {},
   "outputs": [
    {
     "data": {
      "text/plain": [
       "(-0.25, 4.25)"
      ]
     },
     "execution_count": 129,
     "metadata": {},
     "output_type": "execute_result"
    },
    {
     "data": {
      "image/png": "[encoded data removed]",
      "text/plain": [
       "<Figure size 300x400 with 1 Axes>"
      ]
     },
     "metadata": {
      "needs_background": "light"
     },
     "output_type": "display_data"
    }
   ],
   "source": [
    "fig, ax = plt.subplots(figsize=(3, 4))\n",
    "\n",
    "ax1 = ax.plot(data.index, data['Less than high school'], color=GRAY9, lw=3,  markevery=[0, 4], markersize=6, marker='o')\n",
    "ax2 = ax.plot(data.index, data['High school graduate'], color=GRAY9, lw=3,  markevery=[0, 4], markersize=6, marker='o')\n",
    "ax3 = ax.plot(data.index, data['Some college'], color=GRAY9, lw=3,  markevery=[0, 4], markersize=6, marker='o')\n",
    "ax4 = ax.plot(data.index, data[\"Bachelor's degree or more\"], color=ORANGE1, lw=3,  markevery=[0, 4], markersize=6, marker='o')\n",
    "\n",
    "# Annotations\n",
    "X_OFFSET, Y_OFFSET = -0.7, -1\n",
    "for ix, axis in enumerate([ax1, ax2, ax3, ax4]):\n",
    "    if ix==3:\n",
    "        ax.text(0+X_OFFSET, axis[0].get_ydata()[0]+Y_OFFSET, f\"{axis[0].get_ydata()[0]: .0f}\", fontsize=12, fontweight='bold', color=ORANGE1)\n",
    "        ax.text(3-X_OFFSET*1.7, axis[0].get_ydata()[4]+Y_OFFSET, f\"{axis[0].get_ydata()[4]: .0f}\", fontsize=12, fontweight='bold', color=ORANGE1)\n",
    "    else:\n",
    "        ax.text(0+X_OFFSET, axis[0].get_ydata()[0]+Y_OFFSET, f\"{axis[0].get_ydata()[0]: .0f}\", fontsize=12, color=GRAY9)\n",
    "        ax.text(3-X_OFFSET*1.7, axis[0].get_ydata()[4]+Y_OFFSET, f\"{axis[0].get_ydata()[4]: .0f}\", fontsize=12, color=GRAY9)\n",
    "\n",
    "ax.text(0-4, ax1[0].get_ydata()[0]+Y_OFFSET, f\"Less than high school\", fontsize=12, color=GRAY9)\n",
    "ax.text(0-3.3, ax2[0].get_ydata()[0]+Y_OFFSET, f\"High school grad\", fontsize=12, color=GRAY9)\n",
    "ax.text(0-2.8, ax3[0].get_ydata()[0]+Y_OFFSET, f\"Some college\", fontsize=12, color=GRAY9)\n",
    "ax.text(0-4.65, ax4[0].get_ydata()[0]+Y_OFFSET, f\"Bachelor's degree or more\", fontsize=12, color=ORANGE1)\n",
    "\n",
    "ax.text(0-4.65, 85, f\"New marriage rate by education\", fontsize=16, fontweight='semibold', color=GRAY5)\n",
    "ax.text(0-4.65, 80, f\"Number of newly merried adults pr 1,000 marriage eligible adults\", fontsize=12, color=GRAY5)\n",
    "\n",
    "ax.set_ylim(0, 70)\n",
    "ax.set_xlim(-.25, 4.25)\n",
    " \n",
    "plt.savefig('plots/slopegraph_1.png', bbox_inches=\"tight\")\n",
    "plt.show()"
   ]
  }
 ],
 "metadata": {
  "interpreter": {
   "hash": "16dc84660fec27b50f0548644bb1795f9bec42b358b6ade974b6ef1756c86310"
  },
  "kernelspec": {
   "display_name": "Python 3.9.7 64-bit ('data_viz': conda)",
   "name": "python3"
  },
  "language_info": {
   "codemirror_mode": {
    "name": "ipython",
    "version": 3
   },
   "file_extension": ".py",
   "mimetype": "text/x-python",
   "name": "python",
   "nbconvert_exporter": "python",
   "pygments_lexer": "ipython3",
   "version": "3.9.7"
  },
  "orig_nbformat": 4
 },
 "nbformat": 4,
 "nbformat_minor": 2
}
