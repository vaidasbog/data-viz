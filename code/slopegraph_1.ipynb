{
 "cells": [
  {
   "cell_type": "code",
   "execution_count": 2,
   "source": [
    "import os\r\n",
    "import pandas as pd\r\n",
    "import numpy as np\r\n",
    "import matplotlib.pyplot as plt\r\n",
    "import matplotlib as mpl\r\n",
    "from matplotlib import ticker\r\n",
    "import matplotlib.dates as dates"
   ],
   "outputs": [],
   "metadata": {}
  },
  {
   "cell_type": "code",
   "execution_count": 4,
   "source": [
    "# Colors\r\n",
    "GRAY1, GRAY2, GRAY3 = '#231F20', '#414040', '#555655'\r\n",
    "GRAY4, GRAY5, GRAY6 = '#646369', '#76787B', '#828282'\r\n",
    "GRAY7, GRAY8, GRAY9 = '#929497', '#A6A6A5', '#BFBEBE'\r\n",
    "BLUE1, BLUE2, BLUE3, BLUE4 = '#174A7E', '#4A81BF', '#94B2D7', '#94AFC5'\r\n",
    "RED1, RED2 = '#C3514E', '#E6BAB7'\r\n",
    "GREEN1, GREEN2 = '#0C8040', '#9ABB59'\r\n",
    "ORANGE1 = '#F79747'"
   ],
   "outputs": [],
   "metadata": {}
  },
  {
   "cell_type": "code",
   "execution_count": 3,
   "source": [
    "# Setting the stage\r\n",
    "mpl.rcParams['figure.figsize'] = 6.5, 4         # figure size\r\n",
    "mpl.rcParams['figure.dpi'] = 100                # dots per inch, magnifying effect\r\n",
    "mpl.rcParams['axes.spines.top'] = False         # Remove top spine\r\n",
    "mpl.rcParams['axes.spines.right'] = False       # Remove right spine\r\n",
    "mpl.rcParams['axes.edgecolor'] = GRAY2          # Gray edge collors\r\n",
    "mpl.rcParams['xtick.color'] = GRAY2             # Gray yticks\r\n",
    "mpl.rcParams['ytick.color'] = GRAY2             # Gray xticks\r\n",
    "mpl.rcParams['text.color'] = GRAY2              # Text\r\n",
    "mpl.rcParams['font.family'] = 'Arial'           # Font"
   ],
   "outputs": [
    {
     "output_type": "error",
     "ename": "NameError",
     "evalue": "name 'GRAY2' is not defined",
     "traceback": [
      "\u001b[1;31m---------------------------------------------------------------------------\u001b[0m",
      "\u001b[1;31mNameError\u001b[0m                                 Traceback (most recent call last)",
      "\u001b[1;32m~\\AppData\\Local\\Temp/ipykernel_1640/3494374727.py\u001b[0m in \u001b[0;36m<module>\u001b[1;34m\u001b[0m\n\u001b[0;32m      4\u001b[0m \u001b[0mmpl\u001b[0m\u001b[1;33m.\u001b[0m\u001b[0mrcParams\u001b[0m\u001b[1;33m[\u001b[0m\u001b[1;34m'axes.spines.top'\u001b[0m\u001b[1;33m]\u001b[0m \u001b[1;33m=\u001b[0m \u001b[1;32mFalse\u001b[0m         \u001b[1;31m# Remove top spine\u001b[0m\u001b[1;33m\u001b[0m\u001b[1;33m\u001b[0m\u001b[0m\n\u001b[0;32m      5\u001b[0m \u001b[0mmpl\u001b[0m\u001b[1;33m.\u001b[0m\u001b[0mrcParams\u001b[0m\u001b[1;33m[\u001b[0m\u001b[1;34m'axes.spines.right'\u001b[0m\u001b[1;33m]\u001b[0m \u001b[1;33m=\u001b[0m \u001b[1;32mFalse\u001b[0m       \u001b[1;31m# Remove right spine\u001b[0m\u001b[1;33m\u001b[0m\u001b[1;33m\u001b[0m\u001b[0m\n\u001b[1;32m----> 6\u001b[1;33m \u001b[0mmpl\u001b[0m\u001b[1;33m.\u001b[0m\u001b[0mrcParams\u001b[0m\u001b[1;33m[\u001b[0m\u001b[1;34m'axes.edgecolor'\u001b[0m\u001b[1;33m]\u001b[0m \u001b[1;33m=\u001b[0m \u001b[0mGRAY2\u001b[0m          \u001b[1;31m# Gray edge collors\u001b[0m\u001b[1;33m\u001b[0m\u001b[1;33m\u001b[0m\u001b[0m\n\u001b[0m\u001b[0;32m      7\u001b[0m \u001b[0mmpl\u001b[0m\u001b[1;33m.\u001b[0m\u001b[0mrcParams\u001b[0m\u001b[1;33m[\u001b[0m\u001b[1;34m'xtick.color'\u001b[0m\u001b[1;33m]\u001b[0m \u001b[1;33m=\u001b[0m \u001b[0mGRAY2\u001b[0m             \u001b[1;31m# Gray yticks\u001b[0m\u001b[1;33m\u001b[0m\u001b[1;33m\u001b[0m\u001b[0m\n\u001b[0;32m      8\u001b[0m \u001b[0mmpl\u001b[0m\u001b[1;33m.\u001b[0m\u001b[0mrcParams\u001b[0m\u001b[1;33m[\u001b[0m\u001b[1;34m'ytick.color'\u001b[0m\u001b[1;33m]\u001b[0m \u001b[1;33m=\u001b[0m \u001b[0mGRAY2\u001b[0m             \u001b[1;31m# Gray xticks\u001b[0m\u001b[1;33m\u001b[0m\u001b[1;33m\u001b[0m\u001b[0m\n",
      "\u001b[1;31mNameError\u001b[0m: name 'GRAY2' is not defined"
     ]
    }
   ],
   "metadata": {}
  },
  {
   "cell_type": "code",
   "execution_count": 7,
   "source": [
    "ix = ['2008',\t'2009', '2010', '2011', '2012']\r\n",
    "all = [41.4, 40.0, 38.0, 37.0, 36.7]\r\n",
    "lsth = [26.8, 25.0, 23.0, 23.2, 23.4]\r\n",
    "hsg = [35.9, 34.0, 31.0, 30.5, 30.1]\r\n",
    "sc = [42.5, 41.0, 37.0, 36.7, 36.5]\r\n",
    "bdm = [61.5, 61.0, 59.0, 55.0, 56.7]\r\n",
    "\r\n",
    "data = pd.DataFrame({\r\n",
    "    'All': all,\r\n",
    "    'Less than high school': lsth,\r\n",
    "    'High school graduate': hsg,\r\n",
    "    'Some college': sc,\r\n",
    "    \"Bachelor's degree or more\": bdm,\r\n",
    "    }, index=ix)\r\n",
    "data"
   ],
   "outputs": [
    {
     "output_type": "execute_result",
     "data": {
      "text/html": [
       "<div>\n",
       "<style scoped>\n",
       "    .dataframe tbody tr th:only-of-type {\n",
       "        vertical-align: middle;\n",
       "    }\n",
       "\n",
       "    .dataframe tbody tr th {\n",
       "        vertical-align: top;\n",
       "    }\n",
       "\n",
       "    .dataframe thead th {\n",
       "        text-align: right;\n",
       "    }\n",
       "</style>\n",
       "<table border=\"1\" class=\"dataframe\">\n",
       "  <thead>\n",
       "    <tr style=\"text-align: right;\">\n",
       "      <th></th>\n",
       "      <th>All</th>\n",
       "      <th>Less than high school</th>\n",
       "      <th>High school graduate</th>\n",
       "      <th>Some college</th>\n",
       "      <th>Bachelor's degree or more</th>\n",
       "    </tr>\n",
       "  </thead>\n",
       "  <tbody>\n",
       "    <tr>\n",
       "      <th>2008</th>\n",
       "      <td>41.4</td>\n",
       "      <td>26.8</td>\n",
       "      <td>35.9</td>\n",
       "      <td>42.5</td>\n",
       "      <td>61.5</td>\n",
       "    </tr>\n",
       "    <tr>\n",
       "      <th>2009</th>\n",
       "      <td>40.0</td>\n",
       "      <td>25.0</td>\n",
       "      <td>34.0</td>\n",
       "      <td>41.0</td>\n",
       "      <td>61.0</td>\n",
       "    </tr>\n",
       "    <tr>\n",
       "      <th>2010</th>\n",
       "      <td>38.0</td>\n",
       "      <td>23.0</td>\n",
       "      <td>31.0</td>\n",
       "      <td>37.0</td>\n",
       "      <td>59.0</td>\n",
       "    </tr>\n",
       "    <tr>\n",
       "      <th>2011</th>\n",
       "      <td>37.0</td>\n",
       "      <td>23.2</td>\n",
       "      <td>30.5</td>\n",
       "      <td>36.7</td>\n",
       "      <td>55.0</td>\n",
       "    </tr>\n",
       "    <tr>\n",
       "      <th>2012</th>\n",
       "      <td>36.7</td>\n",
       "      <td>23.4</td>\n",
       "      <td>30.1</td>\n",
       "      <td>36.5</td>\n",
       "      <td>56.7</td>\n",
       "    </tr>\n",
       "  </tbody>\n",
       "</table>\n",
       "</div>"
      ],
      "text/plain": [
       "       All  Less than high school  High school graduate  Some college  \\\n",
       "2008  41.4                   26.8                  35.9          42.5   \n",
       "2009  40.0                   25.0                  34.0          41.0   \n",
       "2010  38.0                   23.0                  31.0          37.0   \n",
       "2011  37.0                   23.2                  30.5          36.7   \n",
       "2012  36.7                   23.4                  30.1          36.5   \n",
       "\n",
       "      Bachelor's degree or more  \n",
       "2008                       61.5  \n",
       "2009                       61.0  \n",
       "2010                       59.0  \n",
       "2011                       55.0  \n",
       "2012                       56.7  "
      ]
     },
     "metadata": {},
     "execution_count": 7
    }
   ],
   "metadata": {}
  }
 ],
 "metadata": {
  "orig_nbformat": 4,
  "language_info": {
   "name": "python",
   "version": "3.9.7",
   "mimetype": "text/x-python",
   "codemirror_mode": {
    "name": "ipython",
    "version": 3
   },
   "pygments_lexer": "ipython3",
   "nbconvert_exporter": "python",
   "file_extension": ".py"
  },
  "kernelspec": {
   "name": "python3",
   "display_name": "Python 3.9.7 64-bit ('data_viz': conda)"
  },
  "interpreter": {
   "hash": "16dc84660fec27b50f0548644bb1795f9bec42b358b6ade974b6ef1756c86310"
  }
 },
 "nbformat": 4,
 "nbformat_minor": 2
}