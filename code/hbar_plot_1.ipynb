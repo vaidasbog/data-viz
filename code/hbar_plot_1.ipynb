{
 "cells": [
  {
   "cell_type": "code",
   "execution_count": 1,
   "source": [
    "import os\r\n",
    "import pandas as pd\r\n",
    "import numpy as np\r\n",
    "import matplotlib.pyplot as plt\r\n",
    "import matplotlib as mpl\r\n",
    "import matplotlib.ticker as ticker"
   ],
   "outputs": [],
   "metadata": {}
  },
  {
   "cell_type": "code",
   "execution_count": 2,
   "source": [
    "# Colors\r\n",
    "GRAY1, GRAY2, GRAY3 = '#231F20', '#414040', '#555655'\r\n",
    "GRAY4, GRAY5, GRAY6 = '#646369', '#76787B', '#828282'\r\n",
    "GRAY7, GRAY8, GRAY9 = '#929497', '#A6A6A5', '#BFBEBE'\r\n",
    "BLUE1, BLUE2, BLUE3, BLUE4 = '#174A7E', '#4A81BF', '#94B2D7', '#94AFC5'\r\n",
    "RED1, RED2 = '#C3514E', '#E6BAB7'\r\n",
    "GREEN1, GREEN2 = '#0C8040', '#9ABB59'\r\n",
    "ORANGE1 = '#F79747'"
   ],
   "outputs": [],
   "metadata": {}
  },
  {
   "cell_type": "code",
   "execution_count": 3,
   "source": [
    "# Setting the stage\r\n",
    "mpl.rcParams['figure.figsize'] = 6.5, 4         # figure size\r\n",
    "mpl.rcParams['figure.dpi'] = 100                # dots per inch, magnifying effect\r\n",
    "# mpl.rcParams['axes.spines.top'] = False         # Remove top spine\r\n",
    "mpl.rcParams['axes.spines.bottom'] = False      # Remove bottom spine\r\n",
    "mpl.rcParams['axes.spines.right'] = False       # Remove right spine\r\n",
    "mpl.rcParams['axes.spines.left'] = False        # Remove left spine\r\n",
    "mpl.rcParams['axes.edgecolor'] = GRAY2          # Gray edge collors\r\n",
    "mpl.rcParams['xtick.color'] = GRAY2             # Gray xticks\r\n",
    "mpl.rcParams['ytick.color'] = GRAY2             # Gray yticks\r\n",
    "mpl.rcParams['ytick.left'] = False              # Remove y-axis ticks\r\n",
    "mpl.rcParams['text.color'] = GRAY2              # Text\r\n",
    "mpl.rcParams['font.family'] = 'Arial'           # Font"
   ],
   "outputs": [],
   "metadata": {}
  },
  {
   "cell_type": "code",
   "execution_count": 4,
   "source": [
    "# Data\r\n",
    "a = [0.05, 0.05, 0.30, 0.27, 0.33]\r\n",
    "b = [0.06, 0.11, 0.35, 0.28, 0.2]\r\n",
    "c = [0.06, 0.14, 0.45, 0.15, 0.2]\r\n",
    "d = [0.08, 0.32, 0.2, 0.23, 0.17]\r\n",
    "e = [0.16, 0.25, 0.32, 0.18, 0.09]\r\n",
    "index = ['Survey item A', 'Survey item B', 'Suvey item C', 'Survey item D', 'Survey item E']\r\n",
    "columns = ['Strongly Disagree', 'Disagree', 'Neutral', 'Agree', 'Strongly agree']\r\n",
    "\r\n",
    "data = pd.DataFrame([a, b, c, d, e], index=index, columns=columns)\r\n",
    "data = data.loc[data.index[::-1], :] # reversing column order\r\n",
    "\r\n",
    "data"
   ],
   "outputs": [
    {
     "output_type": "execute_result",
     "data": {
      "text/html": [
       "<div>\n",
       "<style scoped>\n",
       "    .dataframe tbody tr th:only-of-type {\n",
       "        vertical-align: middle;\n",
       "    }\n",
       "\n",
       "    .dataframe tbody tr th {\n",
       "        vertical-align: top;\n",
       "    }\n",
       "\n",
       "    .dataframe thead th {\n",
       "        text-align: right;\n",
       "    }\n",
       "</style>\n",
       "<table border=\"1\" class=\"dataframe\">\n",
       "  <thead>\n",
       "    <tr style=\"text-align: right;\">\n",
       "      <th></th>\n",
       "      <th>Strongly Disagree</th>\n",
       "      <th>Disagree</th>\n",
       "      <th>Neutral</th>\n",
       "      <th>Agree</th>\n",
       "      <th>Strongly agree</th>\n",
       "    </tr>\n",
       "  </thead>\n",
       "  <tbody>\n",
       "    <tr>\n",
       "      <th>Survey item E</th>\n",
       "      <td>0.16</td>\n",
       "      <td>0.25</td>\n",
       "      <td>0.32</td>\n",
       "      <td>0.18</td>\n",
       "      <td>0.09</td>\n",
       "    </tr>\n",
       "    <tr>\n",
       "      <th>Survey item D</th>\n",
       "      <td>0.08</td>\n",
       "      <td>0.32</td>\n",
       "      <td>0.20</td>\n",
       "      <td>0.23</td>\n",
       "      <td>0.17</td>\n",
       "    </tr>\n",
       "    <tr>\n",
       "      <th>Suvey item C</th>\n",
       "      <td>0.06</td>\n",
       "      <td>0.14</td>\n",
       "      <td>0.45</td>\n",
       "      <td>0.15</td>\n",
       "      <td>0.20</td>\n",
       "    </tr>\n",
       "    <tr>\n",
       "      <th>Survey item B</th>\n",
       "      <td>0.06</td>\n",
       "      <td>0.11</td>\n",
       "      <td>0.35</td>\n",
       "      <td>0.28</td>\n",
       "      <td>0.20</td>\n",
       "    </tr>\n",
       "    <tr>\n",
       "      <th>Survey item A</th>\n",
       "      <td>0.05</td>\n",
       "      <td>0.05</td>\n",
       "      <td>0.30</td>\n",
       "      <td>0.27</td>\n",
       "      <td>0.33</td>\n",
       "    </tr>\n",
       "  </tbody>\n",
       "</table>\n",
       "</div>"
      ],
      "text/plain": [
       "               Strongly Disagree  Disagree  Neutral  Agree  Strongly agree\n",
       "Survey item E               0.16      0.25     0.32   0.18            0.09\n",
       "Survey item D               0.08      0.32     0.20   0.23            0.17\n",
       "Suvey item C                0.06      0.14     0.45   0.15            0.20\n",
       "Survey item B               0.06      0.11     0.35   0.28            0.20\n",
       "Survey item A               0.05      0.05     0.30   0.27            0.33"
      ]
     },
     "metadata": {},
     "execution_count": 4
    }
   ],
   "metadata": {}
  },
  {
   "cell_type": "code",
   "execution_count": 74,
   "source": [
    "fig, ax = plt.subplots()\r\n",
    "height = 0.5\r\n",
    "\r\n",
    "left = pd.Series([0, 0, 0, 0, 0], index=data.index)\r\n",
    "for col in data.columns:\r\n",
    "    if col in columns[0:2]:\r\n",
    "        ax.barh(data.index, data[col], height=height, left=left, color=GRAY4)\r\n",
    "    elif col in [columns[2]]:\r\n",
    "        ax.barh(data.index, data[col], height=height, left=left, color=GRAY8)\r\n",
    "    else: \r\n",
    "        ax.barh(data.index, data[col], height=height, left=left, color=BLUE1)\r\n",
    "    left = left + data[col] + 0.002 # Small increment to add white space\r\n",
    "\r\n",
    "ax.xaxis.set_ticks_position('top')      # Moving x-axis labels to the top\r\n",
    "ax.set_xlim(0, 1)                       # x b/w 0 & 1\r\n",
    "ax.xaxis.set_major_formatter(ticker.PercentFormatter(xmax=1))     # Percent formatter\r\n",
    "\r\n",
    "# Title\r\n",
    "ax.text(-0.19, 6,  'Survey results', fontsize=14, color=GRAY2)\r\n",
    "\r\n",
    "# Legend\r\n",
    "ax.text(-0.02, 5.5,  columns[0], fontsize=10, color=GRAY4, weight='bold'); ax.text(0.22, 5.5,  ' | ', fontsize=10, color=GRAY2)\r\n",
    "ax.text(0.25, 5.5,  columns[1], fontsize=10, color=GRAY4, weight='bold'); ax.text(0.37, 5.5,  ' | ', fontsize=10, color=GRAY2)\r\n",
    "ax.text(0.4, 5.5,  columns[2], fontsize=10, color=GRAY8, weight='bold'); ax.text(0.5, 5.5,  ' | ', fontsize=10, color=GRAY2)\r\n",
    "ax.text(0.53, 5.5,  columns[3], fontsize=10, color=BLUE1, weight='bold'); ax.text(0.61, 5.5,  ' | ', fontsize=10, color=GRAY2)\r\n",
    "ax.text(0.64, 5.5,  columns[4], fontsize=10, color=BLUE1, weight='bold')\r\n",
    "\r\n",
    "ax.text(-0.02, 5.05,  'Percent of total', fontsize=9, color=GRAY2);"
   ],
   "outputs": [
    {
     "output_type": "display_data",
     "data": {
      "image/png": "[encoded data removed]",
      "text/plain": [
       "<Figure size 650x400 with 1 Axes>"
      ]
     },
     "metadata": {
      "needs_background": "light"
     }
    }
   ],
   "metadata": {}
  },
  {
   "cell_type": "code",
   "execution_count": 24,
   "source": [
    "[columns[3]]"
   ],
   "outputs": [
    {
     "output_type": "execute_result",
     "data": {
      "text/plain": [
       "['Agree']"
      ]
     },
     "metadata": {},
     "execution_count": 24
    }
   ],
   "metadata": {}
  },
  {
   "cell_type": "code",
   "execution_count": null,
   "source": [],
   "outputs": [],
   "metadata": {}
  }
 ],
 "metadata": {
  "orig_nbformat": 4,
  "language_info": {
   "name": "python",
   "version": "3.9.7",
   "mimetype": "text/x-python",
   "codemirror_mode": {
    "name": "ipython",
    "version": 3
   },
   "pygments_lexer": "ipython3",
   "nbconvert_exporter": "python",
   "file_extension": ".py"
  },
  "kernelspec": {
   "name": "python3",
   "display_name": "Python 3.9.7 64-bit ('data_viz': conda)"
  },
  "interpreter": {
   "hash": "16dc84660fec27b50f0548644bb1795f9bec42b358b6ade974b6ef1756c86310"
  }
 },
 "nbformat": 4,
 "nbformat_minor": 2
}