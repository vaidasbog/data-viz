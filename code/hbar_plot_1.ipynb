{
 "cells": [
  {
   "cell_type": "code",
   "execution_count": 7,
   "source": [
    "import os\r\n",
    "import pandas as pd\r\n",
    "import numpy as np\r\n",
    "import matplotlib.pyplot as plt\r\n",
    "import matplotlib as mpl"
   ],
   "outputs": [],
   "metadata": {}
  },
  {
   "cell_type": "code",
   "execution_count": 2,
   "source": [
    "# Colors\r\n",
    "GRAY1, GRAY2, GRAY3 = '#231F20', '#414040', '#555655'\r\n",
    "GRAY4, GRAY5, GRAY6 = '#646369', '#76787B', '#828282'\r\n",
    "GRAY7, GRAY8, GRAY9 = '#929497', '#A6A6A5', '#BFBEBE'\r\n",
    "BLUE1, BLUE2, BLUE3, BLUE4 = '#174A7E', '#4A81BF', '#94B2D7', '#94AFC5'\r\n",
    "RED1, RED2 = '#C3514E', '#E6BAB7'\r\n",
    "GREEN1, GREEN2 = '#0C8040', '#9ABB59'\r\n",
    "ORANGE1 = '#F79747'"
   ],
   "outputs": [],
   "metadata": {}
  },
  {
   "cell_type": "code",
   "execution_count": 8,
   "source": [
    "# Setting the stage\r\n",
    "mpl.rcParams['figure.figsize'] = 6.5, 4         # figure size\r\n",
    "mpl.rcParams['figure.dpi'] = 100                # dots per inch, magnifying effect\r\n",
    "mpl.rcParams['axes.spines.top'] = False         # Remove top spine\r\n",
    "mpl.rcParams['axes.spines.right'] = False       # Remove right spine\r\n",
    "mpl.rcParams['axes.edgecolor'] = GRAY2          # Gray edge collors\r\n",
    "mpl.rcParams['xtick.color'] = GRAY2             # Gray yticks\r\n",
    "mpl.rcParams['ytick.color'] = GRAY2             # Gray xticks\r\n",
    "mpl.rcParams['text.color'] = GRAY2              # Text\r\n",
    "mpl.rcParams['font.family'] = 'Arial'           # Font"
   ],
   "outputs": [],
   "metadata": {}
  },
  {
   "cell_type": "code",
   "execution_count": 24,
   "source": [
    "# Data\r\n",
    "a = [0.05, 0.05, 0.30, 0.27, 0.33]\r\n",
    "b = [0.06, 0.11, 0.35, 0.28, 0.2]\r\n",
    "c = [0.06, 0.14, 0.45, 0.15, 0.2]\r\n",
    "d = [0.08, 0.32, 0.2, 0.23, 0.17]\r\n",
    "e = [0.16, 0.25, 0.32, 0.18, 0.9]\r\n",
    "\r\n",
    "cats = ['Strongly Disagree', 'Disagree', 'Neutral', 'Agree', 'Stronly agree']\r\n",
    "\r\n",
    "data = pd.DataFrame({'a': a, 'b': b, 'c': c, 'd': d, 'e': e}, index=cats)\r\n",
    "data.loc['Strongly Disagree']"
   ],
   "outputs": [
    {
     "output_type": "execute_result",
     "data": {
      "text/plain": [
       "a    0.05\n",
       "b    0.06\n",
       "c    0.06\n",
       "d    0.08\n",
       "e    0.16\n",
       "Name: Strongly Disagree, dtype: float64"
      ]
     },
     "metadata": {},
     "execution_count": 24
    }
   ],
   "metadata": {}
  },
  {
   "cell_type": "code",
   "execution_count": 18,
   "source": [
    "fig, ax = plt.subplots()\r\n",
    "height = 0.5\r\n",
    "ax.barh(-1, a, height=height)\r\n",
    "ax.barh(-2, b, height=height)"
   ],
   "outputs": [
    {
     "output_type": "execute_result",
     "data": {
      "text/plain": [
       "<BarContainer object of 5 artists>"
      ]
     },
     "metadata": {},
     "execution_count": 18
    },
    {
     "output_type": "display_data",
     "data": {
      "image/png": "[encoded data removed]",
      "text/plain": [
       "<Figure size 650x400 with 1 Axes>"
      ]
     },
     "metadata": {
      "needs_background": "light"
     }
    }
   ],
   "metadata": {}
  }
 ],
 "metadata": {
  "orig_nbformat": 4,
  "language_info": {
   "name": "python",
   "version": "3.9.7",
   "mimetype": "text/x-python",
   "codemirror_mode": {
    "name": "ipython",
    "version": 3
   },
   "pygments_lexer": "ipython3",
   "nbconvert_exporter": "python",
   "file_extension": ".py"
  },
  "kernelspec": {
   "name": "python3",
   "display_name": "Python 3.9.7 64-bit ('data_viz': conda)"
  },
  "interpreter": {
   "hash": "16dc84660fec27b50f0548644bb1795f9bec42b358b6ade974b6ef1756c86310"
  }
 },
 "nbformat": 4,
 "nbformat_minor": 2
}